{
 "cells": [
  {
   "cell_type": "code",
   "execution_count": 1,
   "id": "91ce0f58-8d93-49c5-abda-d1acac104d13",
   "metadata": {},
   "outputs": [],
   "source": [
    "import numpy as np\n",
    "import pandas as pd\n"
   ]
  },
  {
   "cell_type": "markdown",
   "id": "c98fb0e5-6096-4ae5-99e2-121e3f1f056d",
   "metadata": {},
   "source": [
    "Exercise 1: Prime Numbers\n",
    "Write a Python program that checks whether a given number is prime or not.\n",
    "A prime number is a natural number greater than 1 that has no positive divisors other than 1 and itself.\n"
   ]
  },
  {
   "cell_type": "code",
   "execution_count": 43,
   "id": "68d62947-4b57-4df3-99b6-68efabd7b470",
   "metadata": {},
   "outputs": [
    {
     "name": "stdin",
     "output_type": "stream",
     "text": [
      "Enter a number 45\n"
     ]
    },
    {
     "name": "stdout",
     "output_type": "stream",
     "text": [
      "Number is not a Prime Number\n"
     ]
    }
   ],
   "source": [
    "num= int(input(\"Enter a number\"))\n",
    "if num== 1 :\n",
    "    print(\"Number is not Prime\")\n",
    "if num >1:\n",
    "    for i in range(2,num):\n",
    "        if num%i == 0:\n",
    "            print(\"Number is not a Prime Number\")\n",
    "            break\n",
    "    else:\n",
    "          print('Number is Prime')\n",
    "    "
   ]
  },
  {
   "cell_type": "markdown",
   "id": "63454e29-9606-4233-88ff-5e6bb333d211",
   "metadata": {},
   "source": [
    "Exercise 2: Product of Random Numbers\n",
    "Develop a Python program that generates two random numbers and asks the user to enter the product of these numbers. \n",
    "The program should then check if the user's answer is correct and display an appropriate message.\n"
   ]
  },
  {
   "cell_type": "code",
   "execution_count": 48,
   "id": "c578ae78-0331-47d7-8762-cca8f6754350",
   "metadata": {},
   "outputs": [
    {
     "name": "stdin",
     "output_type": "stream",
     "text": [
      "95*84= 545\n"
     ]
    },
    {
     "name": "stdout",
     "output_type": "stream",
     "text": [
      "Your Answer is Wrong. \n",
      "95*84=7980\n"
     ]
    }
   ],
   "source": [
    "import random as random\n",
    "ran_num1 = int(random.random()*100)\n",
    "ran_num2 = int(random.random()*100)\n",
    "product = float(input(f\"{ran_num1}*{ran_num2}=\"))\n",
    "if product ==  ran_num1*ran_num2:\n",
    "    print(\"Your Answer is Correct.\")\n",
    "else:\n",
    "    print(f\"Your Answer is Wrong. \\n{ran_num1}*{ran_num2}={ran_num1*ran_num2}\")\n"
   ]
  },
  {
   "cell_type": "markdown",
   "id": "5b39d33e-faca-441a-ab3f-8a291bb2d4f2",
   "metadata": {},
   "source": [
    "Exercise 3: Squares of Even/Odd Numbers\n",
    "Create a Python script that prints the squares of all even or odd numbers within the range of 100 to 200. \n",
    "Choose either even or odd numbers and document your choice in the code.\n"
   ]
  },
  {
   "cell_type": "code",
   "execution_count": 55,
   "id": "ba161fc4-fdb0-45a5-befa-7d353390ad75",
   "metadata": {},
   "outputs": [
    {
     "name": "stdin",
     "output_type": "stream",
     "text": [
      "Enter Even/Odd to get squares of Even/Odd Numbers between 100 -200: Odd\n"
     ]
    },
    {
     "name": "stdout",
     "output_type": "stream",
     "text": [
      "101**2 = 10201\n",
      "103**2 = 10609\n",
      "105**2 = 11025\n",
      "107**2 = 11449\n",
      "109**2 = 11881\n",
      "111**2 = 12321\n",
      "113**2 = 12769\n",
      "115**2 = 13225\n",
      "117**2 = 13689\n",
      "119**2 = 14161\n",
      "121**2 = 14641\n",
      "123**2 = 15129\n",
      "125**2 = 15625\n",
      "127**2 = 16129\n",
      "129**2 = 16641\n",
      "131**2 = 17161\n",
      "133**2 = 17689\n",
      "135**2 = 18225\n",
      "137**2 = 18769\n",
      "139**2 = 19321\n",
      "141**2 = 19881\n",
      "143**2 = 20449\n",
      "145**2 = 21025\n",
      "147**2 = 21609\n",
      "149**2 = 22201\n",
      "151**2 = 22801\n",
      "153**2 = 23409\n",
      "155**2 = 24025\n",
      "157**2 = 24649\n",
      "159**2 = 25281\n",
      "161**2 = 25921\n",
      "163**2 = 26569\n",
      "165**2 = 27225\n",
      "167**2 = 27889\n",
      "169**2 = 28561\n",
      "171**2 = 29241\n",
      "173**2 = 29929\n",
      "175**2 = 30625\n",
      "177**2 = 31329\n",
      "179**2 = 32041\n",
      "181**2 = 32761\n",
      "183**2 = 33489\n",
      "185**2 = 34225\n",
      "187**2 = 34969\n",
      "189**2 = 35721\n",
      "191**2 = 36481\n",
      "193**2 = 37249\n",
      "195**2 = 38025\n",
      "197**2 = 38809\n",
      "199**2 = 39601\n"
     ]
    }
   ],
   "source": [
    "num= input(\"Enter Even/Odd to get squares of Even/Odd Numbers between 100 -200:\") \n",
    "if num == \"Even\":\n",
    "    for i in range(100,201):\n",
    "        if i%2==0: #uses relational operators to check if the number is even or odd. \n",
    "            print(f\"{i}**2 = {i**2}\")\n",
    "if num == \"Odd\":\n",
    "    for i in range(100,201): #range(100,201) gives the range from 100(inclusive) till 200 (excludes 201)\n",
    "        if i%2 != 0: \n",
    "            print(f\"{i}**2 = {i**2}\") # use of formatted string\n",
    "#it will throw error if Even is written in lowercase, cause Python is case sensitive."
   ]
  },
  {
   "cell_type": "markdown",
   "id": "dd3e1f3b-3adf-4827-9d63-576c657f82d3",
   "metadata": {},
   "source": [
    "Exercise 4: Word counter\n",
    "write a program to count the number of words in a given text.\n",
    "example:\n",
    "input_text = \"This is a sample text. This text will be used to demonstrate the word counter.\"\n"
   ]
  },
  {
   "cell_type": "code",
   "execution_count": 56,
   "id": "bb1958d7-69b3-4b41-aa77-24e46b694296",
   "metadata": {},
   "outputs": [
    {
     "name": "stdin",
     "output_type": "stream",
     "text": [
      "Enter a sentence/ Word: neha is a good girl\n"
     ]
    },
    {
     "name": "stdout",
     "output_type": "stream",
     "text": [
      "The total number of words = 5\n"
     ]
    }
   ],
   "source": [
    "p= 1\n",
    "sent = input(\"Enter a sentence/ Word:\")\n",
    "for i in sent:\n",
    "    if i== \" \": #uses spaces to count the words.\n",
    "        p += 1\n",
    "print(f'The total number of words = {p}')"
   ]
  },
  {
   "cell_type": "markdown",
   "id": "1f42534c-aa15-486d-abdf-ea536fcbd7cc",
   "metadata": {},
   "source": [
    "Exercise 5: Check for Palindrome:\n",
    "Write a Python function called is_palindrome that takes a string as input and returns True if the string is a palindrome, and False otherwise.\n"
   ]
  },
  {
   "cell_type": "code",
   "execution_count": 41,
   "id": "3834fd34-ff28-44e7-be83-3f1f5b4d6f08",
   "metadata": {},
   "outputs": [],
   "source": [
    "import re\n",
    "def is_palindrome(a):\n",
    "    #used regular expression here to replace not a-z,A-z and 0-9 values with \"\", a.lower() converts the strg in lowercase.\n",
    "    string = re.sub(r'[^a-zA-Z0-9]',\"\",a.lower()) \n",
    "    if string == string[::-1]: #string[::-1] will reverse the string.\n",
    "        print(True)\n",
    "    else:\n",
    "        print(False)\n",
    "        "
   ]
  },
  {
   "cell_type": "code",
   "execution_count": 42,
   "id": "e68bb1f3-9be8-444a-948b-7acc7543739a",
   "metadata": {},
   "outputs": [
    {
     "name": "stdout",
     "output_type": "stream",
     "text": [
      "True\n"
     ]
    }
   ],
   "source": [
    "is_palindrome(\"ma'am\")"
   ]
  },
  {
   "cell_type": "code",
   "execution_count": 57,
   "id": "0e33c43d-8635-4c88-b925-59b5fd835381",
   "metadata": {},
   "outputs": [],
   "source": []
  },
  {
   "cell_type": "code",
   "execution_count": null,
   "id": "e104598e-426b-440b-9403-9f2c2aaf1a8b",
   "metadata": {},
   "outputs": [],
   "source": []
  },
  {
   "cell_type": "code",
   "execution_count": null,
   "id": "0edff1bf-6bff-42ee-960b-a8f0d29e0ab3",
   "metadata": {},
   "outputs": [],
   "source": []
  }
 ],
 "metadata": {
  "kernelspec": {
   "display_name": "Python 3 (ipykernel)",
   "language": "python",
   "name": "python3"
  },
  "language_info": {
   "codemirror_mode": {
    "name": "ipython",
    "version": 3
   },
   "file_extension": ".py",
   "mimetype": "text/x-python",
   "name": "python",
   "nbconvert_exporter": "python",
   "pygments_lexer": "ipython3",
   "version": "3.12.3"
  }
 },
 "nbformat": 4,
 "nbformat_minor": 5
}
