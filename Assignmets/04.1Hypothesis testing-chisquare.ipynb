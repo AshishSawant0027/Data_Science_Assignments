{
 "cells": [
  {
   "cell_type": "markdown",
   "id": "72f9bc79-c9c5-4c18-87f8-6ef80bdeee76",
   "metadata": {},
   "source": [
    "#### 1. State the Hypotheses:\n",
    "* Alternet Hypothesis (H1): This is a statement that predicts a relationship between variables. It is also known as the alternative hypothesis.\n",
    "* Null Hypothesis (H0): This is a statement that predicts no relationship between variables. It is the default position that there is no association between the variables being studied."
   ]
  },
  {
   "cell_type": "code",
   "execution_count": 2,
   "id": "f2e67b2c",
   "metadata": {},
   "outputs": [],
   "source": [
    "import numpy as np\n",
    "import pandas as pd\n",
    "from scipy import stats"
   ]
  },
  {
   "cell_type": "code",
   "execution_count": 2,
   "id": "63c3bb12",
   "metadata": {},
   "outputs": [],
   "source": [
    "data = {\"Satisfaction\": [\"very Satisfied\",\"satisfied\",\"neutral\",\"unsatisfied\",\"very unsatisfied\"],\n",
    "       \"Smart thermostats\":[50,80,60,30,20],\n",
    "       \"Samrt Light\":[70,100,90,50,50]}"
   ]
  },
  {
   "cell_type": "code",
   "execution_count": 3,
   "id": "4559349b",
   "metadata": {},
   "outputs": [],
   "source": [
    "df= pd.DataFrame(data)"
   ]
  },
  {
   "cell_type": "code",
   "execution_count": 4,
   "id": "c9917458",
   "metadata": {},
   "outputs": [
    {
     "data": {
      "text/html": [
       "<div>\n",
       "<style scoped>\n",
       "    .dataframe tbody tr th:only-of-type {\n",
       "        vertical-align: middle;\n",
       "    }\n",
       "\n",
       "    .dataframe tbody tr th {\n",
       "        vertical-align: top;\n",
       "    }\n",
       "\n",
       "    .dataframe thead th {\n",
       "        text-align: right;\n",
       "    }\n",
       "</style>\n",
       "<table border=\"1\" class=\"dataframe\">\n",
       "  <thead>\n",
       "    <tr style=\"text-align: right;\">\n",
       "      <th></th>\n",
       "      <th>Satisfaction</th>\n",
       "      <th>Smart thermostats</th>\n",
       "      <th>Samrt Light</th>\n",
       "    </tr>\n",
       "  </thead>\n",
       "  <tbody>\n",
       "    <tr>\n",
       "      <th>0</th>\n",
       "      <td>very Satisfied</td>\n",
       "      <td>50</td>\n",
       "      <td>70</td>\n",
       "    </tr>\n",
       "    <tr>\n",
       "      <th>1</th>\n",
       "      <td>satisfied</td>\n",
       "      <td>80</td>\n",
       "      <td>100</td>\n",
       "    </tr>\n",
       "    <tr>\n",
       "      <th>2</th>\n",
       "      <td>neutral</td>\n",
       "      <td>60</td>\n",
       "      <td>90</td>\n",
       "    </tr>\n",
       "    <tr>\n",
       "      <th>3</th>\n",
       "      <td>unsatisfied</td>\n",
       "      <td>30</td>\n",
       "      <td>50</td>\n",
       "    </tr>\n",
       "    <tr>\n",
       "      <th>4</th>\n",
       "      <td>very unsatisfied</td>\n",
       "      <td>20</td>\n",
       "      <td>50</td>\n",
       "    </tr>\n",
       "  </tbody>\n",
       "</table>\n",
       "</div>"
      ],
      "text/plain": [
       "       Satisfaction  Smart thermostats  Samrt Light\n",
       "0    very Satisfied                 50           70\n",
       "1         satisfied                 80          100\n",
       "2           neutral                 60           90\n",
       "3       unsatisfied                 30           50\n",
       "4  very unsatisfied                 20           50"
      ]
     },
     "execution_count": 4,
     "metadata": {},
     "output_type": "execute_result"
    }
   ],
   "source": [
    "df"
   ]
  },
  {
   "cell_type": "code",
   "execution_count": 5,
   "id": "2b0c9208",
   "metadata": {},
   "outputs": [],
   "source": [
    "df = df.set_index(df[\"Satisfaction\"])"
   ]
  },
  {
   "cell_type": "code",
   "execution_count": 6,
   "id": "884b0fb6",
   "metadata": {},
   "outputs": [],
   "source": [
    "df.drop(\"Satisfaction\",axis=1,inplace= True)"
   ]
  },
  {
   "cell_type": "code",
   "execution_count": 7,
   "id": "ff63bfed",
   "metadata": {},
   "outputs": [
    {
     "data": {
      "text/html": [
       "<div>\n",
       "<style scoped>\n",
       "    .dataframe tbody tr th:only-of-type {\n",
       "        vertical-align: middle;\n",
       "    }\n",
       "\n",
       "    .dataframe tbody tr th {\n",
       "        vertical-align: top;\n",
       "    }\n",
       "\n",
       "    .dataframe thead th {\n",
       "        text-align: right;\n",
       "    }\n",
       "</style>\n",
       "<table border=\"1\" class=\"dataframe\">\n",
       "  <thead>\n",
       "    <tr style=\"text-align: right;\">\n",
       "      <th></th>\n",
       "      <th>Smart thermostats</th>\n",
       "      <th>Samrt Light</th>\n",
       "    </tr>\n",
       "    <tr>\n",
       "      <th>Satisfaction</th>\n",
       "      <th></th>\n",
       "      <th></th>\n",
       "    </tr>\n",
       "  </thead>\n",
       "  <tbody>\n",
       "    <tr>\n",
       "      <th>very Satisfied</th>\n",
       "      <td>50</td>\n",
       "      <td>70</td>\n",
       "    </tr>\n",
       "    <tr>\n",
       "      <th>satisfied</th>\n",
       "      <td>80</td>\n",
       "      <td>100</td>\n",
       "    </tr>\n",
       "    <tr>\n",
       "      <th>neutral</th>\n",
       "      <td>60</td>\n",
       "      <td>90</td>\n",
       "    </tr>\n",
       "    <tr>\n",
       "      <th>unsatisfied</th>\n",
       "      <td>30</td>\n",
       "      <td>50</td>\n",
       "    </tr>\n",
       "    <tr>\n",
       "      <th>very unsatisfied</th>\n",
       "      <td>20</td>\n",
       "      <td>50</td>\n",
       "    </tr>\n",
       "  </tbody>\n",
       "</table>\n",
       "</div>"
      ],
      "text/plain": [
       "                  Smart thermostats  Samrt Light\n",
       "Satisfaction                                    \n",
       "very Satisfied                   50           70\n",
       "satisfied                        80          100\n",
       "neutral                          60           90\n",
       "unsatisfied                      30           50\n",
       "very unsatisfied                 20           50"
      ]
     },
     "execution_count": 7,
     "metadata": {},
     "output_type": "execute_result"
    }
   ],
   "source": [
    "df.head()"
   ]
  },
  {
   "cell_type": "markdown",
   "id": "2f698bbd-0660-4941-ac04-3bf41c606e9c",
   "metadata": {},
   "source": [
    "#### 2. Compute the Chi-Square Statistic:\n",
    "* there is no association between the type of smart home device prchased ( smart thermostats vs. samrt light) and the customer satisfation  \n",
    "* h1 = there is association between the type smat home device purchas and customer satisfaction"
   ]
  },
  {
   "cell_type": "code",
   "execution_count": 9,
   "id": "2d7370fd",
   "metadata": {},
   "outputs": [
    {
     "data": {
      "text/plain": [
       "Chi2ContingencyResult(statistic=5.638227513227513, pvalue=0.22784371130697179, dof=4, expected_freq=array([[ 48.,  72.],\n",
       "       [ 72., 108.],\n",
       "       [ 60.,  90.],\n",
       "       [ 32.,  48.],\n",
       "       [ 28.,  42.]]))"
      ]
     },
     "execution_count": 9,
     "metadata": {},
     "output_type": "execute_result"
    }
   ],
   "source": [
    "stats.chi2_contingency(df)"
   ]
  },
  {
   "cell_type": "markdown",
   "id": "5beb703f-9eed-4c93-81f8-349331992dd4",
   "metadata": {},
   "source": [
    "#### 3. Determine the Critical Value:\n",
    "* Using the significance level (alpha) of 0.05 and the degrees of freedom (which is the number of categories minus 1)\n"
   ]
  },
  {
   "cell_type": "code",
   "execution_count": 10,
   "id": "5d5d4228",
   "metadata": {},
   "outputs": [
    {
     "name": "stdout",
     "output_type": "stream",
     "text": [
      "9.487729036781154\n"
     ]
    }
   ],
   "source": [
    "# dof = (2-1)*(5-1)\n",
    "dof = 4\n",
    "alpha = 0.05\n",
    "critical_value = stats.chi2.ppf(1-alpha,dof)\n",
    "print(critical_value)"
   ]
  },
  {
   "cell_type": "markdown",
   "id": "c8b1e11e-102f-4377-b804-697773e23388",
   "metadata": {},
   "source": [
    "#### 4. Make a Decision:"
   ]
  },
  {
   "cell_type": "code",
   "execution_count": 11,
   "id": "5fd15eb9",
   "metadata": {},
   "outputs": [],
   "source": [
    "# p value is less than l.o.s so we do not reject our null hypothesis.\n",
    "# thus there is no association between the type smat home device purchas and customer satisfaction."
   ]
  }
 ],
 "metadata": {
  "kernelspec": {
   "display_name": "Python 3 (ipykernel)",
   "language": "python",
   "name": "python3"
  },
  "language_info": {
   "codemirror_mode": {
    "name": "ipython",
    "version": 3
   },
   "file_extension": ".py",
   "mimetype": "text/x-python",
   "name": "python",
   "nbconvert_exporter": "python",
   "pygments_lexer": "ipython3",
   "version": "3.12.3"
  }
 },
 "nbformat": 4,
 "nbformat_minor": 5
}
