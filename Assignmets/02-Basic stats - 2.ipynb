{
 "cells": [
  {
   "cell_type": "code",
   "execution_count": 1,
   "id": "83bc606a",
   "metadata": {},
   "outputs": [],
   "source": [
    "import numpy as np\n",
    "import pandas as pd\n",
    "from scipy import stats"
   ]
  },
  {
   "cell_type": "code",
   "execution_count": 4,
   "id": "a3a805a6",
   "metadata": {},
   "outputs": [],
   "source": [
    "sample = np.array([1.13, 1.55, 1.43, 0.92, 1.25, 1.36, 1.32, 0.85, 1.07, 1.48, 1.20, 1.33, 1.18, 1.22, 1.29])\n",
    "#A total of 15 print-heads were randomly selected and tested until failure. "
   ]
  },
  {
   "cell_type": "code",
   "execution_count": 5,
   "id": "33e10ffa",
   "metadata": {},
   "outputs": [],
   "source": [
    "#since there are less than 30 sample so I used t distribution for confidance interval"
   ]
  },
  {
   "cell_type": "code",
   "execution_count": 6,
   "id": "b92cb0f2",
   "metadata": {},
   "outputs": [
    {
     "data": {
      "text/plain": [
       "0.995"
      ]
     },
     "execution_count": 6,
     "metadata": {},
     "output_type": "execute_result"
    }
   ],
   "source": [
    "a = 0.99+(0.01/2)\n",
    "a"
   ]
  },
  {
   "cell_type": "markdown",
   "id": "2f0cfe83",
   "metadata": {},
   "source": [
    "### Assignment Tasks\n",
    "##### a. Build 99% Confidence Interval Using Sample Standard Deviation\n"
   ]
  },
  {
   "cell_type": "code",
   "execution_count": 11,
   "id": "818e4d39",
   "metadata": {},
   "outputs": [
    {
     "name": "stdout",
     "output_type": "stream",
     "text": [
      "meanat 99% confidance intervarl is [0.6093 1.868 ]\n"
     ]
    }
   ],
   "source": [
    "cint_forsamp = stats.t.interval(a,loc = sample.mean(), scale = sample.std(),df = 13)\n",
    "print(\"meanat 99% confidance intervarl is\" , np.round(cint_forsamp,4))"
   ]
  },
  {
   "cell_type": "markdown",
   "id": "f2432fa3",
   "metadata": {},
   "source": [
    "##### b. Build 99% Confidence Interval Using Known Population Standard Deviation"
   ]
  },
  {
   "cell_type": "code",
   "execution_count": 13,
   "id": "911e63b9",
   "metadata": {},
   "outputs": [],
   "source": [
    "pop_std = 0.2"
   ]
  },
  {
   "cell_type": "code",
   "execution_count": 14,
   "id": "2f8e3e02",
   "metadata": {},
   "outputs": [
    {
     "name": "stdout",
     "output_type": "stream",
     "text": [
      "meanat 99% confidance intervarl is [0.5735 1.9038]\n"
     ]
    }
   ],
   "source": [
    "cint_forsamp = stats.t.interval(a,loc = sample.mean(), scale = pop_std,df = 14)\n",
    "print(\"meanat 99% confidance intervarl is\" , np.round(cint_forsamp,4))"
   ]
  },
  {
   "cell_type": "code",
   "execution_count": null,
   "id": "95931236",
   "metadata": {},
   "outputs": [],
   "source": []
  }
 ],
 "metadata": {
  "kernelspec": {
   "display_name": "Python 3 (ipykernel)",
   "language": "python",
   "name": "python3"
  },
  "language_info": {
   "codemirror_mode": {
    "name": "ipython",
    "version": 3
   },
   "file_extension": ".py",
   "mimetype": "text/x-python",
   "name": "python",
   "nbconvert_exporter": "python",
   "pygments_lexer": "ipython3",
   "version": "3.12.3"
  }
 },
 "nbformat": 4,
 "nbformat_minor": 5
}
