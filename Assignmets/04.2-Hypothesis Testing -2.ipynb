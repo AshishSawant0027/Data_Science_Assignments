{
 "cells": [
  {
   "cell_type": "markdown",
   "id": "736b060e",
   "metadata": {},
   "source": [
    "#### 1. State the Hypotheses statement:\n",
    "* The null hypothesis (H0) and the alternative hypothesis (H1) are:\n",
    "* H0 (Null Hypothesis): The weekly operating costs follow the theoretical model, W =$1,000 + $5X.\n",
    "* H1 (Alternative Hypothesis): The weekly operating costs are higher than the theoretical model."
   ]
  },
  {
   "cell_type": "markdown",
   "id": "2deeca0c",
   "metadata": {},
   "source": [
    "### 2. Calculate the Test Statistic:"
   ]
  },
  {
   "cell_type": "code",
   "execution_count": 4,
   "id": "3ab75af7",
   "metadata": {},
   "outputs": [],
   "source": [
    "import numpy as np\n",
    "import pandas as pd\n",
    "from scipy import stats"
   ]
  },
  {
   "cell_type": "code",
   "execution_count": 5,
   "id": "3d64ab14",
   "metadata": {},
   "outputs": [],
   "source": [
    "# given data\n",
    "s_mean = 3050\n",
    "s_the_mean = (1000+5*600)\n",
    "s_std = (5*25)\n",
    "s_size = 25"
   ]
  },
  {
   "cell_type": "code",
   "execution_count": 6,
   "id": "f70b3b72",
   "metadata": {},
   "outputs": [],
   "source": [
    "# Student-t-Distribution"
   ]
  },
  {
   "cell_type": "code",
   "execution_count": 7,
   "id": "11bebde3",
   "metadata": {},
   "outputs": [],
   "source": [
    "STD_Error = s_std/np.sqrt(s_size)"
   ]
  },
  {
   "cell_type": "code",
   "execution_count": 8,
   "id": "29a33580",
   "metadata": {},
   "outputs": [
    {
     "name": "stdout",
     "output_type": "stream",
     "text": [
      "Test Statistic (t) :-38.0\n"
     ]
    }
   ],
   "source": [
    "t_Stat = (s_mean-s_the_mean)/STD_Error\n",
    "\n",
    "print(f\"Test Statistic (t) :{t_Stat}\")"
   ]
  },
  {
   "cell_type": "markdown",
   "id": "2ffc26bc",
   "metadata": {},
   "source": [
    "#### 3. Determine the Critical Value:\n",
    "* Using the alpha level of 5% (α = 0.05), determine the critical value from the standard normal (Z) distribution table."
   ]
  },
  {
   "cell_type": "code",
   "execution_count": 10,
   "id": "a1115264",
   "metadata": {},
   "outputs": [
    {
     "name": "stdout",
     "output_type": "stream",
     "text": [
      "Critical value (z) : 1.6448536269514722\n"
     ]
    }
   ],
   "source": [
    "import scipy.stats as stats\n",
    "\n",
    "alpha = 0.05\n",
    "Critical_value = stats.norm.ppf(1-alpha)\n",
    "print(f\"Critical value (z) : {Critical_value}\")"
   ]
  },
  {
   "cell_type": "markdown",
   "id": "8519c2c7",
   "metadata": {},
   "source": [
    "#### 4. Make a Decision:\n",
    "* Since the test statistic (-38.0) is much less than the critical value (1.644), it falls in the left tail of the distribution, which does not support the alternative hypothesis."
   ]
  },
  {
   "cell_type": "markdown",
   "id": "479f42d7",
   "metadata": {},
   "source": [
    "#### 5. Conclusion:\n",
    "* Based on the comparison of the test statistic with the critical value, we do not find strong evidence to support the restaurant owners' claim that the weekly operating costs are higher than the model suggests. The observed mean cost is significantly lower than the theoretical mean cost, indicating that the current theoretical model might still be accurate, or there may be other factors contributing to the discrepancy that need further investigation."
   ]
  }
 ],
 "metadata": {
  "kernelspec": {
   "display_name": "Python 3 (ipykernel)",
   "language": "python",
   "name": "python3"
  },
  "language_info": {
   "codemirror_mode": {
    "name": "ipython",
    "version": 3
   },
   "file_extension": ".py",
   "mimetype": "text/x-python",
   "name": "python",
   "nbconvert_exporter": "python",
   "pygments_lexer": "ipython3",
   "version": "3.12.3"
  }
 },
 "nbformat": 4,
 "nbformat_minor": 5
}
