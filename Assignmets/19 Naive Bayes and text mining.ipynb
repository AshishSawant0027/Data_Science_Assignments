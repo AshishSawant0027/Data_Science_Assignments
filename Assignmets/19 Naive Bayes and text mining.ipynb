{
 "cells": [
  {
   "cell_type": "code",
   "execution_count": 1,
   "id": "2007a461-f4eb-4f91-aca4-dd6162939457",
   "metadata": {},
   "outputs": [],
   "source": [
    "import pandas as pd\n",
    "import numpy as np\n",
    "import seaborn as sns\n",
    "import matplotlib.pyplot as plt\n",
    "import string # special operations on strings"
   ]
  },
  {
   "cell_type": "code",
   "execution_count": 2,
   "id": "3f3b2fad-189b-4fd0-ac6f-5f4008dfb2e4",
   "metadata": {},
   "outputs": [],
   "source": [
    "import nltk\n",
    "from nltk.corpus import stopwords\n",
    "from nltk.tokenize import word_tokenize\n",
    "from nltk.stem import PorterStemmer"
   ]
  },
  {
   "cell_type": "code",
   "execution_count": 3,
   "id": "9b4f7e40-8f1f-41fd-a0bf-78a62715742d",
   "metadata": {},
   "outputs": [
    {
     "name": "stderr",
     "output_type": "stream",
     "text": [
      "[nltk_data] Downloading package punkt to\n",
      "[nltk_data]     C:\\Users\\ASHISH\\AppData\\Roaming\\nltk_data...\n",
      "[nltk_data]   Package punkt is already up-to-date!\n",
      "[nltk_data] Downloading package stopwords to\n",
      "[nltk_data]     C:\\Users\\ASHISH\\AppData\\Roaming\\nltk_data...\n",
      "[nltk_data]   Package stopwords is already up-to-date!\n"
     ]
    }
   ],
   "source": [
    "#Download necessary NLTK data files\n",
    "nltk.download('punkt')\n",
    "nltk.download('stopwords')\n",
    "\n",
    "# Define stop words\n",
    "stop_words = stopwords.words('english')\n",
    "\n",
    "# Initialize the Porter Stemmer\n",
    "ps = PorterStemmer()"
   ]
  },
  {
   "cell_type": "code",
   "execution_count": 4,
   "id": "7c092649-f7ed-4def-a070-7b6a9eacbc84",
   "metadata": {},
   "outputs": [],
   "source": [
    "df = pd.read_csv(\"blogs.csv\",on_bad_lines='skip')"
   ]
  },
  {
   "cell_type": "code",
   "execution_count": 5,
   "id": "38088bf6-2178-4ad3-ae1d-d85cfc68062c",
   "metadata": {},
   "outputs": [
    {
     "data": {
      "text/html": [
       "<div>\n",
       "<style scoped>\n",
       "    .dataframe tbody tr th:only-of-type {\n",
       "        vertical-align: middle;\n",
       "    }\n",
       "\n",
       "    .dataframe tbody tr th {\n",
       "        vertical-align: top;\n",
       "    }\n",
       "\n",
       "    .dataframe thead th {\n",
       "        text-align: right;\n",
       "    }\n",
       "</style>\n",
       "<table border=\"1\" class=\"dataframe\">\n",
       "  <thead>\n",
       "    <tr style=\"text-align: right;\">\n",
       "      <th></th>\n",
       "      <th>Data</th>\n",
       "      <th>Labels</th>\n",
       "    </tr>\n",
       "  </thead>\n",
       "  <tbody>\n",
       "    <tr>\n",
       "      <th>0</th>\n",
       "      <td>Path: cantaloupe.srv.cs.cmu.edu!magnesium.club...</td>\n",
       "      <td>alt.atheism</td>\n",
       "    </tr>\n",
       "    <tr>\n",
       "      <th>1</th>\n",
       "      <td>Newsgroups: alt.atheism\\nPath: cantaloupe.srv....</td>\n",
       "      <td>alt.atheism</td>\n",
       "    </tr>\n",
       "    <tr>\n",
       "      <th>2</th>\n",
       "      <td>Path: cantaloupe.srv.cs.cmu.edu!das-news.harva...</td>\n",
       "      <td>alt.atheism</td>\n",
       "    </tr>\n",
       "    <tr>\n",
       "      <th>3</th>\n",
       "      <td>Path: cantaloupe.srv.cs.cmu.edu!magnesium.club...</td>\n",
       "      <td>alt.atheism</td>\n",
       "    </tr>\n",
       "    <tr>\n",
       "      <th>4</th>\n",
       "      <td>Xref: cantaloupe.srv.cs.cmu.edu alt.atheism:53...</td>\n",
       "      <td>alt.atheism</td>\n",
       "    </tr>\n",
       "    <tr>\n",
       "      <th>...</th>\n",
       "      <td>...</td>\n",
       "      <td>...</td>\n",
       "    </tr>\n",
       "    <tr>\n",
       "      <th>1995</th>\n",
       "      <td>Xref: cantaloupe.srv.cs.cmu.edu talk.abortion:...</td>\n",
       "      <td>talk.religion.misc</td>\n",
       "    </tr>\n",
       "    <tr>\n",
       "      <th>1996</th>\n",
       "      <td>Xref: cantaloupe.srv.cs.cmu.edu talk.religion....</td>\n",
       "      <td>talk.religion.misc</td>\n",
       "    </tr>\n",
       "    <tr>\n",
       "      <th>1997</th>\n",
       "      <td>Xref: cantaloupe.srv.cs.cmu.edu talk.origins:4...</td>\n",
       "      <td>talk.religion.misc</td>\n",
       "    </tr>\n",
       "    <tr>\n",
       "      <th>1998</th>\n",
       "      <td>Xref: cantaloupe.srv.cs.cmu.edu talk.religion....</td>\n",
       "      <td>talk.religion.misc</td>\n",
       "    </tr>\n",
       "    <tr>\n",
       "      <th>1999</th>\n",
       "      <td>Xref: cantaloupe.srv.cs.cmu.edu sci.skeptic:43...</td>\n",
       "      <td>talk.religion.misc</td>\n",
       "    </tr>\n",
       "  </tbody>\n",
       "</table>\n",
       "<p>2000 rows × 2 columns</p>\n",
       "</div>"
      ],
      "text/plain": [
       "                                                   Data              Labels\n",
       "0     Path: cantaloupe.srv.cs.cmu.edu!magnesium.club...         alt.atheism\n",
       "1     Newsgroups: alt.atheism\\nPath: cantaloupe.srv....         alt.atheism\n",
       "2     Path: cantaloupe.srv.cs.cmu.edu!das-news.harva...         alt.atheism\n",
       "3     Path: cantaloupe.srv.cs.cmu.edu!magnesium.club...         alt.atheism\n",
       "4     Xref: cantaloupe.srv.cs.cmu.edu alt.atheism:53...         alt.atheism\n",
       "...                                                 ...                 ...\n",
       "1995  Xref: cantaloupe.srv.cs.cmu.edu talk.abortion:...  talk.religion.misc\n",
       "1996  Xref: cantaloupe.srv.cs.cmu.edu talk.religion....  talk.religion.misc\n",
       "1997  Xref: cantaloupe.srv.cs.cmu.edu talk.origins:4...  talk.religion.misc\n",
       "1998  Xref: cantaloupe.srv.cs.cmu.edu talk.religion....  talk.religion.misc\n",
       "1999  Xref: cantaloupe.srv.cs.cmu.edu sci.skeptic:43...  talk.religion.misc\n",
       "\n",
       "[2000 rows x 2 columns]"
      ]
     },
     "execution_count": 5,
     "metadata": {},
     "output_type": "execute_result"
    }
   ],
   "source": [
    "df"
   ]
  },
  {
   "cell_type": "code",
   "execution_count": 6,
   "id": "2d17c02b-48f3-40bb-b090-acec028fa76a",
   "metadata": {},
   "outputs": [
    {
     "name": "stdout",
     "output_type": "stream",
     "text": [
      "Labels\n",
      "alt.atheism                 100\n",
      "comp.graphics               100\n",
      "talk.politics.misc          100\n",
      "talk.politics.mideast       100\n",
      "talk.politics.guns          100\n",
      "soc.religion.christian      100\n",
      "sci.space                   100\n",
      "sci.med                     100\n",
      "sci.electronics             100\n",
      "sci.crypt                   100\n",
      "rec.sport.hockey            100\n",
      "rec.sport.baseball          100\n",
      "rec.motorcycles             100\n",
      "rec.autos                   100\n",
      "misc.forsale                100\n",
      "comp.windows.x              100\n",
      "comp.sys.mac.hardware       100\n",
      "comp.sys.ibm.pc.hardware    100\n",
      "comp.os.ms-windows.misc     100\n",
      "talk.religion.misc          100\n",
      "Name: count, dtype: int64\n",
      "count     2000.000000\n",
      "mean      2324.978000\n",
      "std       3590.560226\n",
      "min        425.000000\n",
      "25%       1147.000000\n",
      "50%       1605.500000\n",
      "75%       2374.500000\n",
      "max      62290.000000\n",
      "Name: Text_Length, dtype: float64\n"
     ]
    }
   ],
   "source": [
    "# Check the distribution of categories\n",
    "print(df['Labels'].value_counts())\n",
    "\n",
    "# Check the length of the text data\n",
    "df['Text_Length'] = df['Data'].apply(len)\n",
    "print(df['Text_Length'].describe())\n"
   ]
  },
  {
   "cell_type": "code",
   "execution_count": 7,
   "id": "af521802-f41c-4a49-9beb-ae7afc67d72d",
   "metadata": {},
   "outputs": [
    {
     "name": "stderr",
     "output_type": "stream",
     "text": [
      "[nltk_data] Downloading package stopwords to\n",
      "[nltk_data]     C:\\Users\\ASHISH\\AppData\\Roaming\\nltk_data...\n",
      "[nltk_data]   Package stopwords is already up-to-date!\n",
      "[nltk_data] Downloading package punkt to\n",
      "[nltk_data]     C:\\Users\\ASHISH\\AppData\\Roaming\\nltk_data...\n",
      "[nltk_data]   Package punkt is already up-to-date!\n"
     ]
    },
    {
     "name": "stdout",
     "output_type": "stream",
     "text": [
      "                                                Data  \\\n",
      "0  Path: cantaloupe.srv.cs.cmu.edu!magnesium.club...   \n",
      "1  Newsgroups: alt.atheism\\nPath: cantaloupe.srv....   \n",
      "2  Path: cantaloupe.srv.cs.cmu.edu!das-news.harva...   \n",
      "3  Path: cantaloupe.srv.cs.cmu.edu!magnesium.club...   \n",
      "4  Xref: cantaloupe.srv.cs.cmu.edu alt.atheism:53...   \n",
      "\n",
      "                                        Cleaned_Text  \n",
      "0  path cantaloupesrvcscmuedumagnesiumclubcccmued...  \n",
      "1  newsgroups altatheism path cantaloupesrvcscmue...  \n",
      "2  path cantaloupesrvcscmuedudasnewsharvardedunoc...  \n",
      "3  path cantaloupesrvcscmuedumagnesiumclubcccmued...  \n",
      "4  xref cantaloupesrvcscmuedu altatheism talkreli...  \n"
     ]
    }
   ],
   "source": [
    "import re\n",
    "import nltk\n",
    "from nltk.corpus import stopwords\n",
    "from nltk.tokenize import word_tokenize\n",
    "\n",
    "# Download stopwords if you haven't already\n",
    "nltk.download('stopwords')\n",
    "nltk.download('punkt')\n",
    "\n",
    "# Define a function to clean and tokenize text\n",
    "def preprocess_text(text):\n",
    "    # Remove punctuation and numbers\n",
    "    text = re.sub(r'[^\\w\\s]', '', text)\n",
    "    text = re.sub(r'\\d+', '', text)\n",
    "    # Convert to lowercase\n",
    "    text = text.lower()\n",
    "    # Tokenize\n",
    "    tokens = word_tokenize(text)\n",
    "    # Remove stopwords\n",
    "    tokens = [word for word in tokens if word not in stopwords.words('english')]\n",
    "    return ' '.join(tokens)\n",
    "\n",
    "# Apply preprocessing\n",
    "df['Cleaned_Text'] = df['Data'].apply(preprocess_text)\n",
    "\n",
    "# Display the cleaned text\n",
    "print(df[['Data', 'Cleaned_Text']].head())\n"
   ]
  },
  {
   "cell_type": "code",
   "execution_count": 8,
   "id": "26f8ce64-f210-4f38-ac28-ca0a262284d5",
   "metadata": {},
   "outputs": [
    {
     "name": "stdout",
     "output_type": "stream",
     "text": [
      "(2000, 46293)\n"
     ]
    }
   ],
   "source": [
    "from sklearn.feature_extraction.text import TfidfVectorizer\n",
    "\n",
    "# Initialize the TF-IDF Vectorizer\n",
    "tfidf_vectorizer = TfidfVectorizer()\n",
    "\n",
    "# Fit and transform the cleaned text data\n",
    "X = tfidf_vectorizer.fit_transform(df['Cleaned_Text'])\n",
    "\n",
    "# Display the shape of the TF-IDF matrix\n",
    "print(X.shape)\n"
   ]
  },
  {
   "cell_type": "code",
   "execution_count": 9,
   "id": "51e47812-9356-4885-a6eb-0f606b9c0988",
   "metadata": {},
   "outputs": [
    {
     "name": "stdout",
     "output_type": "stream",
     "text": [
      "(1600, 46293) (400, 46293)\n"
     ]
    }
   ],
   "source": [
    "from sklearn.model_selection import train_test_split\n",
    "\n",
    "# Define the features and the target variable\n",
    "X = tfidf_vectorizer.transform(df['Cleaned_Text'])  # TF-IDF features\n",
    "y = df['Labels']  # Target variable\n",
    "\n",
    "# Split the data into training and test sets\n",
    "X_train, X_test, y_train, y_test = train_test_split(X, y, test_size=0.2, random_state=42)\n",
    "\n",
    "# Check the shape of the split data\n",
    "print(X_train.shape, X_test.shape)\n"
   ]
  },
  {
   "cell_type": "code",
   "execution_count": 10,
   "id": "59460ce3-6fce-4a9c-9849-bc7972a4b546",
   "metadata": {},
   "outputs": [
    {
     "name": "stdout",
     "output_type": "stream",
     "text": [
      "Accuracy: 0.8425\n",
      "Classification Report:\n",
      "                           precision    recall  f1-score   support\n",
      "\n",
      "             alt.atheism       0.55      0.94      0.69        18\n",
      "           comp.graphics       0.80      0.89      0.84        18\n",
      " comp.os.ms-windows.misc       0.95      0.91      0.93        22\n",
      "comp.sys.ibm.pc.hardware       0.91      0.80      0.85        25\n",
      "   comp.sys.mac.hardware       0.79      0.90      0.84        21\n",
      "          comp.windows.x       1.00      0.84      0.91        25\n",
      "            misc.forsale       1.00      0.67      0.80        18\n",
      "               rec.autos       0.89      0.94      0.92        18\n",
      "         rec.motorcycles       0.88      0.88      0.88        16\n",
      "      rec.sport.baseball       0.83      0.83      0.83        18\n",
      "        rec.sport.hockey       0.83      1.00      0.91        15\n",
      "               sci.crypt       0.83      1.00      0.90        19\n",
      "         sci.electronics       0.70      0.88      0.78        16\n",
      "                 sci.med       0.88      0.88      0.88        17\n",
      "               sci.space       1.00      0.90      0.95        21\n",
      "  soc.religion.christian       0.85      0.96      0.90        23\n",
      "      talk.politics.guns       0.92      0.79      0.85        28\n",
      "   talk.politics.mideast       1.00      0.95      0.97        20\n",
      "      talk.politics.misc       0.68      0.94      0.79        18\n",
      "      talk.religion.misc       0.80      0.17      0.28        24\n",
      "\n",
      "                accuracy                           0.84       400\n",
      "               macro avg       0.85      0.85      0.84       400\n",
      "            weighted avg       0.86      0.84      0.83       400\n",
      "\n"
     ]
    }
   ],
   "source": [
    "from sklearn.naive_bayes import MultinomialNB\n",
    "from sklearn.pipeline import make_pipeline\n",
    "from sklearn.metrics import classification_report, accuracy_score\n",
    "\n",
    "# Initialize the Naive Bayes classifier\n",
    "nb_classifier = MultinomialNB()\n",
    "\n",
    "# Train the model on the training data\n",
    "nb_classifier.fit(X_train, y_train)\n",
    "\n",
    "# Make predictions on the test data\n",
    "y_pred = nb_classifier.predict(X_test)\n",
    "\n",
    "# Evaluate the model\n",
    "print('Accuracy:', accuracy_score(y_test, y_pred))\n",
    "print('Classification Report:\\n', classification_report(y_test, y_pred))\n"
   ]
  },
  {
   "cell_type": "code",
   "execution_count": 11,
   "id": "3e015dd7-9fb7-43e4-b00a-4f95a19120b3",
   "metadata": {},
   "outputs": [
    {
     "name": "stdout",
     "output_type": "stream",
     "text": [
      "                                                Data Sentiment\n",
      "0  Path: cantaloupe.srv.cs.cmu.edu!magnesium.club...  negative\n",
      "1  Newsgroups: alt.atheism\\nPath: cantaloupe.srv....  positive\n",
      "2  Path: cantaloupe.srv.cs.cmu.edu!das-news.harva...  negative\n",
      "3  Path: cantaloupe.srv.cs.cmu.edu!magnesium.club...  negative\n",
      "4  Xref: cantaloupe.srv.cs.cmu.edu alt.atheism:53...  positive\n"
     ]
    }
   ],
   "source": [
    "from nltk.sentiment.vader import SentimentIntensityAnalyzer\n",
    "\n",
    "# Initialize the VADER sentiment analyzer\n",
    "sid = SentimentIntensityAnalyzer()\n",
    "\n",
    "# Define a function to get the sentiment score\n",
    "def get_sentiment(text):\n",
    "    scores = sid.polarity_scores(text)\n",
    "    if scores['compound'] >= 0.05:\n",
    "        return 'positive'\n",
    "    elif scores['compound'] <= -0.05:\n",
    "        return 'negative'\n",
    "    else:\n",
    "        return 'neutral'\n",
    "\n",
    "# Apply sentiment analysis to the blog posts\n",
    "df['Sentiment'] = df['Data'].apply(get_sentiment)\n",
    "\n",
    "# Display the sentiment results\n",
    "print(df[['Data', 'Sentiment']].head())\n"
   ]
  },
  {
   "cell_type": "code",
   "execution_count": 12,
   "id": "9b3c0017-59b9-4715-8fca-041487357821",
   "metadata": {},
   "outputs": [
    {
     "name": "stdout",
     "output_type": "stream",
     "text": [
      "Sentiment                 negative  neutral  positive\n",
      "Labels                                               \n",
      "alt.atheism                   42.0      1.0      57.0\n",
      "comp.graphics                 13.0      4.0      83.0\n",
      "comp.os.ms-windows.misc       24.0      2.0      74.0\n",
      "comp.sys.ibm.pc.hardware      21.0      0.0      79.0\n",
      "comp.sys.mac.hardware         24.0      3.0      73.0\n",
      "comp.windows.x                20.0      2.0      78.0\n",
      "misc.forsale                   7.0      8.0      85.0\n",
      "rec.autos                     27.0      1.0      72.0\n",
      "rec.motorcycles               30.0      2.0      68.0\n",
      "rec.sport.baseball            27.0      1.0      72.0\n",
      "rec.sport.hockey              28.0      1.0      71.0\n",
      "sci.crypt                     29.0      0.0      71.0\n",
      "sci.electronics               18.0      4.0      78.0\n",
      "sci.med                       38.0      1.0      61.0\n",
      "sci.space                     32.0      3.0      65.0\n",
      "soc.religion.christian        29.0      0.0      71.0\n",
      "talk.politics.guns            67.0      2.0      31.0\n",
      "talk.politics.mideast         69.0      0.0      31.0\n",
      "talk.politics.misc            50.0      0.0      50.0\n",
      "talk.religion.misc            36.0      0.0      64.0\n"
     ]
    },
    {
     "data": {
      "image/png": "[encoded data removed]",
      "text/plain": [
       "<Figure size 640x480 with 1 Axes>"
      ]
     },
     "metadata": {},
     "output_type": "display_data"
    }
   ],
   "source": [
    "# Check the distribution of sentiments across different categories\n",
    "sentiment_distribution = df.groupby('Labels')['Sentiment'].value_counts().unstack().fillna(0)\n",
    "print(sentiment_distribution)\n",
    "\n",
    "# Plot the distribution if desired\n",
    "import matplotlib.pyplot as plt\n",
    "\n",
    "sentiment_distribution.plot(kind='bar', stacked=True)\n",
    "plt.title('Sentiment Distribution Across Categories')\n",
    "plt.xlabel('Category')\n",
    "plt.ylabel('Number of Posts')\n",
    "plt.show()\n"
   ]
  },
  {
   "cell_type": "code",
   "execution_count": 13,
   "id": "0ecf0c41-8aac-4afc-b1ca-90bb0e17f807",
   "metadata": {},
   "outputs": [
    {
     "name": "stdout",
     "output_type": "stream",
     "text": [
      "Accuracy: 0.8425\n",
      "Precision: 0.8616118547040051\n",
      "Recall: 0.8425\n",
      "F1 Score: 0.8319911099483106\n"
     ]
    }
   ],
   "source": [
    "from sklearn.metrics import accuracy_score, precision_score, recall_score, f1_score\n",
    "\n",
    "# Calculate metrics\n",
    "accuracy = accuracy_score(y_test, y_pred)\n",
    "precision = precision_score(y_test, y_pred, average='weighted')\n",
    "recall = recall_score(y_test, y_pred, average='weighted')\n",
    "f1 = f1_score(y_test, y_pred, average='weighted')\n",
    "\n",
    "# Print metrics\n",
    "print('Accuracy:', accuracy)\n",
    "print('Precision:', precision)\n",
    "print('Recall:', recall)\n",
    "print('F1 Score:', f1)\n"
   ]
  },
  {
   "cell_type": "markdown",
   "id": "fc09d273-3727-477b-8269-a0472a10bac9",
   "metadata": {},
   "source": [
    "#### Analysis\n",
    "\n",
    "##### Overall Sentiment Trends:\n",
    "\n",
    "* Positive Sentiment Dominance: Categories like comp.graphics, misc.forsale, and sci.electronics have a significant number of positive sentiments. This suggests that blog posts in these categories tend to be more positive in tone.\n",
    "Negative Sentiment Trends: Categories such as talk.politics.guns and talk.politics.mideast have a high number of negative sentiments. This indicates that blog posts related to these topics often convey more negative sentiments.\n",
    "\n",
    "##### Categories with Balanced Sentiments:\n",
    "\n",
    "* The talk.politics.misc category shows a balanced sentiment distribution with an equal number of positive and negative sentiments, suggesting a mixed tone in posts related to this category.\n",
    "The talk.religion.misc category has a higher count of positive sentiments compared to negative, indicating a more positive tone.\n",
    "\n",
    "##### Neutral Sentiment Observations:\n",
    "\n",
    "* Categories like alt.atheism and comp.sys.ibm.pc.hardware have very few neutral sentiments, indicating that blog posts in these categories are either clearly positive or negative.\n",
    "Potential Insights:\n",
    "\n",
    "* The distribution of sentiments can offer insights into the nature of discussions within these categories. For example, categories with high negative sentiment may be more contentious or controversial.\n",
    "\n",
    "##### Conclusion\n",
    "* This sentiment analysis reveals distinct patterns in how sentiments are distributed across various categories of blog posts. Understanding these trends can provide deeper insights into the nature of discussions and opinions within different topics."
   ]
  }
 ],
 "metadata": {
  "kernelspec": {
   "display_name": "Python 3 (ipykernel)",
   "language": "python",
   "name": "python3"
  },
  "language_info": {
   "codemirror_mode": {
    "name": "ipython",
    "version": 3
   },
   "file_extension": ".py",
   "mimetype": "text/x-python",
   "name": "python",
   "nbconvert_exporter": "python",
   "pygments_lexer": "ipython3",
   "version": "3.12.3"
  }
 },
 "nbformat": 4,
 "nbformat_minor": 5
}
